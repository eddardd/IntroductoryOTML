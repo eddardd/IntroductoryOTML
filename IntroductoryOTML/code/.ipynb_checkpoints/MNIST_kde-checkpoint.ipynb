{
 "cells": [
  {
   "cell_type": "code",
   "execution_count": 36,
   "metadata": {},
   "outputs": [],
   "source": [
    "import numpy as np\n",
    "import seaborn as sns\n",
    "import tensorflow as tf\n",
    "import matplotlib.pyplot as plt\n",
    "from sklearn.manifold import TSNE\n",
    "\n",
    "plt.rcParams['mathtext.fontset'] = 'custom' \n",
    "plt.rcParams['mathtext.rm'] = 'Bitstream Vera Sans' \n",
    "plt.rcParams['mathtext.it'] = 'Bitstream Vera Sans:italic' \n",
    "plt.rcParams['mathtext.bf'] = 'Bitstream Vera Sans:bold' \n",
    "plt.rcParams['font.size'] = 16 \n",
    "plt.rcParams['mathtext.fontset'] = 'stix' \n",
    "plt.rcParams['font.family'] = 'STIXGeneral' \n",
    "\n",
    "palette = sns.color_palette('tab10')"
   ]
  },
  {
   "cell_type": "code",
   "execution_count": 2,
   "metadata": {},
   "outputs": [],
   "source": [
    "(x_train, y_train), (x_test, y_test) = tf.keras.datasets.mnist.load_data()"
   ]
  },
  {
   "cell_type": "code",
   "execution_count": 5,
   "metadata": {},
   "outputs": [],
   "source": [
    "ind_cls = [np.where(y_train == i)[0] for i in np.unique(y_train)]"
   ]
  },
  {
   "cell_type": "code",
   "execution_count": 9,
   "metadata": {},
   "outputs": [
    {
     "data": {
      "text/plain": [
       "(60000, 28, 28)"
      ]
     },
     "execution_count": 9,
     "metadata": {},
     "output_type": "execute_result"
    }
   ],
   "source": [
    "x_train.shape"
   ]
  },
  {
   "cell_type": "code",
   "execution_count": 20,
   "metadata": {},
   "outputs": [],
   "source": [
    "X = []\n",
    "y = []\n",
    "\n",
    "ind_cls = [np.where(y_train == i)[0] for i in np.unique(y_train)]\n",
    "for ind in ind_cls:\n",
    "    X.append(x_train[ind[:500]].reshape(-1, 28 * 28))\n",
    "    y.append(y_train[ind[:500]])\n",
    "\n",
    "X = np.concatenate(X, axis=0)\n",
    "y = np.concatenate(y, axis=0)"
   ]
  },
  {
   "cell_type": "code",
   "execution_count": 23,
   "metadata": {},
   "outputs": [],
   "source": [
    "tsne = TSNE()\n",
    "Z = tsne.fit_transform(X)"
   ]
  },
  {
   "cell_type": "code",
   "execution_count": null,
   "metadata": {},
   "outputs": [],
   "source": [
    "fig, ax = plt.subplots(1, 1, figsize=(6, 6))\n",
    "sns.scatterplot(Z[:, 0], Z[:, 1], ['Digit ' + str(yi) for yi in y], ax=ax, palette=palette)\n",
    "\n",
    "for i in range(10):\n",
    "    sns.kdeplot(Z[np.where(y == i)[0], 0],\n",
    "                Z[np.where(y == i)[0], 1],\n",
    "                color=palette[i],\n",
    "                ax=ax)\n",
    "\n",
    "\n",
    "    \n",
    "rand_sample = np.random.choice(np.where(y == 0)[0])\n",
    "ax.scatter(Z[rand_sample, 0], Z[rand_sample, 1], s=100, marker='x', c='k')\n",
    "ax.arrow(-60, -80, dx=Z[rand_sample, 0] + 60, dy=Z[rand_sample, 1] + 80)\n",
    "ax.text(-30, -90, s=r\"$P(Y=0|X) = argmin_{k \\neq 0}P(Y=k|X)?$\", horizontalalignment='center')\n",
    "ax.set_ylim([-93, 80])\n",
    "ax.set_xlabel('Feature 1')\n",
    "ax.set_ylabel('Feature 2')\n",
    "ax.legend(bbox_to_anchor=(1, 1))\n",
    "ax.axis('off')\n",
    "\n",
    "plt.tight_layout()\n",
    "plt.savefig('../Figures/MNIST_KDE.svg')"
   ]
  },
  {
   "cell_type": "code",
   "execution_count": null,
   "metadata": {},
   "outputs": [],
   "source": []
  }
 ],
 "metadata": {
  "kernelspec": {
   "display_name": "Python 3.7.7 64-bit ('OptimalTransport': conda)",
   "language": "python",
   "name": "python37764bitoptimaltransportconda38cd42aab3c640dc8d34473d4e53c23f"
  },
  "language_info": {
   "codemirror_mode": {
    "name": "ipython",
    "version": 3
   },
   "file_extension": ".py",
   "mimetype": "text/x-python",
   "name": "python",
   "nbconvert_exporter": "python",
   "pygments_lexer": "ipython3",
   "version": "3.7.7"
  }
 },
 "nbformat": 4,
 "nbformat_minor": 4
}
